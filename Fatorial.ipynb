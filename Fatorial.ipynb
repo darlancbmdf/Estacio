{
  "cells": [
    {
      "cell_type": "code",
      "execution_count": null,
      "metadata": {
        "colab": {
          "base_uri": "https://localhost:8080/"
        },
        "id": "tzF9MpRc-teQ",
        "outputId": "da13a7e7-3326-49b1-c21c-5bd9dce84951"
      },
      "outputs": [
        {
          "ename": "",
          "evalue": "",
          "output_type": "error",
          "traceback": [
            "\u001b[1;31mA execução de células com \"Python 3.10.4 64-bit\" requer o pacote ipykernel.\n",
            "\u001b[1;31mExecute o seguinte comando para instalar \"ipykernel\" no ambiente do Python. \n",
            "\u001b[1;31mComando: \"c:/Users/55619/AppData/Local/Programs/Python/Python310/python.exe -m pip install ipykernel -U --user --force-reinstall\""
          ]
        }
      ],
      "source": [
        "#estretégia 01\n",
        "def fatorial_iterativo(n):\n",
        "    f=1\n",
        "    for i in range(1,n+1):\n",
        "        f=f*i\n",
        "    return f\n",
        "\n",
        "#estratégia 02\n",
        "def fatorial_recursivo(n):\n",
        "    if((n==0)or(n==1)):\n",
        "        return 1\n",
        "    return n*fatorial_recursivo(n-1)\n",
        "\n",
        "numero = eval(input('entre com um numero: '))\n",
        "print(f'O fatorial de {numero} é: {fatorial_iterativo(numero)}')\n",
        "print(f'O fatorial de {numero} é: {fatorial_recursivo(numero)}')"
      ]
    }
  ],
  "metadata": {
    "colab": {
      "authorship_tag": "ABX9TyMinpDjdnv4lfn99zB+ANNT",
      "provenance": []
    },
    "kernelspec": {
      "display_name": "Python 3.10.4 64-bit",
      "language": "python",
      "name": "python3"
    },
    "language_info": {
      "name": "python",
      "version": "3.10.4"
    },
    "vscode": {
      "interpreter": {
        "hash": "6c0209577b179e2601a9fe4e512edfbf77bf33822fd0b11e879b376e82c9d1ee"
      }
    }
  },
  "nbformat": 4,
  "nbformat_minor": 0
}
