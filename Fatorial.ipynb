{
  "nbformat": 4,
  "nbformat_minor": 0,
  "metadata": {
    "colab": {
      "provenance": [],
      "authorship_tag": "ABX9TyMinpDjdnv4lfn99zB+ANNT"
    },
    "kernelspec": {
      "name": "python3",
      "display_name": "Python 3"
    },
    "language_info": {
      "name": "python"
    }
  },
  "cells": [
    {
      "cell_type": "code",
      "execution_count": null,
      "metadata": {
        "colab": {
          "base_uri": "https://localhost:8080/"
        },
        "id": "tzF9MpRc-teQ",
        "outputId": "da13a7e7-3326-49b1-c21c-5bd9dce84951"
      },
      "outputs": [
        {
          "output_type": "stream",
          "name": "stdout",
          "text": [
            "entre com um numero: 9\n",
            "O fatorial de 9 é: 362880\n",
            "O fatorial de 9 é: 362880\n"
          ]
        }
      ],
      "source": [
        "#estretégia 01\n",
        "def fatorial_iterativo(n):\n",
        "    f=1\n",
        "    for i in range(1,n+1):\n",
        "        f=f*i\n",
        "    return f\n",
        "\n",
        "#estratégia 02\n",
        "def fatorial_recursivo(n):\n",
        "    if((n==0)or(n==1)):\n",
        "        return 1\n",
        "    return n*fatorial_recursivo(n-1)\n",
        "\n",
        "numero = eval(input('entre com um numero: '))\n",
        "print(f'O fatorial de {numero} é: {fatorial_iterativo(numero)}')\n",
        "print(f'O fatorial de {numero} é: {fatorial_recursivo(numero)}')"
      ]
    }
  ]
}