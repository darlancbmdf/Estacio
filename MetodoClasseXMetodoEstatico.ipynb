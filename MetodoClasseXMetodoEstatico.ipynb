{
  "nbformat": 4,
  "nbformat_minor": 0,
  "metadata": {
    "colab": {
      "provenance": [],
      "authorship_tag": "ABX9TyNvzxPx5NtkHRSve51N/fU3"
    },
    "kernelspec": {
      "name": "python3",
      "display_name": "Python 3"
    },
    "language_info": {
      "name": "python"
    }
  },
  "cells": [
    {
      "cell_type": "code",
      "execution_count": 7,
      "metadata": {
        "colab": {
          "base_uri": "https://localhost:8080/"
        },
        "id": "UNa_jHmOfRb-",
        "outputId": "d925b332-43e4-4d5f-d7e3-5159dfc8c1a5"
      },
      "outputs": [
        {
          "output_type": "stream",
          "name": "stdout",
          "text": [
            "26\n",
            "16\n",
            "True\n"
          ]
        }
      ],
      "source": [
        "from datetime import date\n",
        "class Pessoa:\n",
        "    def __init__(self, nome, idade):\n",
        "        self.nome = nome\n",
        "        self.idade = idade\n",
        "    # Método de Classe: criar um objeto Pessoa através do ano de nascimento\n",
        "    @classmethod\n",
        "    def apartirAnoNascimento(cls, nome, ano):\n",
        "        return cls(nome, date.today().year - ano )\n",
        "    # Método Estático: verificar se é maior de idade\n",
        "    @staticmethod\n",
        "    def ehMaiorIdade(idade):\n",
        "        return idade >= 18\n",
        "\n",
        "pessoa1 = Pessoa('Maria', 26)\n",
        "pessoa2 = Pessoa.apartirAnoNascimento('Ana', 2006)\n",
        "\n",
        "print(pessoa1.idade)\n",
        "print(pessoa2.idade)\n",
        "\n",
        "#imprimir o resultado\n",
        "print(Pessoa.ehMaiorIdade(pessoa1.idade))"
      ]
    }
  ]
}