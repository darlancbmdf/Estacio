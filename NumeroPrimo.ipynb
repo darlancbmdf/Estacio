{
  "nbformat": 4,
  "nbformat_minor": 0,
  "metadata": {
    "colab": {
      "provenance": [],
      "authorship_tag": "ABX9TyPujc2Psk8Sk/1U5t0TlNYq"
    },
    "kernelspec": {
      "name": "python3",
      "display_name": "Python 3"
    },
    "language_info": {
      "name": "python"
    }
  },
  "cells": [
    {
      "cell_type": "code",
      "execution_count": 4,
      "metadata": {
        "colab": {
          "base_uri": "https://localhost:8080/"
        },
        "id": "8H_6kzUkBDSh",
        "outputId": "c7ce34f3-c72d-4131-dc50-c646afede888"
      },
      "outputs": [
        {
          "output_type": "stream",
          "name": "stdout",
          "text": [
            "Entre com um número: 157\n",
            "O número 157 É primo\n"
          ]
        }
      ],
      "source": [
        "def eh_primo(n):\n",
        "    if(n<2):\n",
        "        return False\n",
        "    i=n//2\n",
        "    while(i>1):\n",
        "        if(n%i==0):\n",
        "            return False\n",
        "        i=i-1\n",
        "    return True\n",
        "\n",
        "def imprimir_resultado(numero, resultado):\n",
        "    mensagem = f'O numero {numero} NÃO é primo'\n",
        "    if(resultado):\n",
        "        mensagem= f'O número {numero} É primo'\n",
        "    return mensagem\n",
        "\n",
        "numero = eval(input('Entre com um número: '))\n",
        "resultado=eh_primo(numero)\n",
        "msg=imprimir_resultado(numero, resultado)\n",
        "print(msg)"
      ]
    }
  ]
}