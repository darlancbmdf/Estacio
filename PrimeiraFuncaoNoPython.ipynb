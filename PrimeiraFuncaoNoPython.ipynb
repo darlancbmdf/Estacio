{
  "nbformat": 4,
  "nbformat_minor": 0,
  "metadata": {
    "colab": {
      "provenance": [],
      "authorship_tag": "ABX9TyPBLqH5+wFnqVrKAQuQ7C/e",
      "include_colab_link": true
    },
    "kernelspec": {
      "name": "python3",
      "display_name": "Python 3"
    },
    "language_info": {
      "name": "python"
    }
  },
  "cells": [
    {
      "cell_type": "markdown",
      "metadata": {
        "id": "view-in-github",
        "colab_type": "text"
      },
      "source": [
        "<a href=\"https://colab.research.google.com/github/darlancbmdf/Estacio/blob/estudos/PrimeiraFuncaoNoPython.ipynb\" target=\"_parent\"><img src=\"https://colab.research.google.com/assets/colab-badge.svg\" alt=\"Open In Colab\"/></a>"
      ]
    },
    {
      "cell_type": "code",
      "execution_count": 6,
      "metadata": {
        "colab": {
          "base_uri": "https://localhost:8080/"
        },
        "id": "uwiOEKVxw9hC",
        "outputId": "b9ddf863-1a19-4757-f295-65e0fb54b205"
      },
      "outputs": [
        {
          "output_type": "stream",
          "name": "stdout",
          "text": [
            "O menor elemento da lista é: 1\n"
          ]
        }
      ],
      "source": [
        "def encontrar_minimo(lista):\n",
        "    minimo = lista[0]\n",
        "    for elem in lista:\n",
        "        if(elem < minimo):\n",
        "            minimo = elem\n",
        "    return minimo\n",
        "\n",
        "lista_teste = [2,10,3,1,4,5]\n",
        "menor = encontrar_minimo(lista_teste)\n",
        "print(f'O menor elemento da lista é: {menor}')"
      ]
    }
  ]
}