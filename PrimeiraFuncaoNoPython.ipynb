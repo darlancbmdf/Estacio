{
  "nbformat": 4,
  "nbformat_minor": 0,
  "metadata": {
    "colab": {
      "provenance": [],
      "collapsed_sections": [],
      "authorship_tag": "ABX9TyNLARf6hu/l2LxEhTPEWtJn"
    },
    "kernelspec": {
      "name": "python3",
      "display_name": "Python 3"
    },
    "language_info": {
      "name": "python"
    }
  },
  "cells": [
    {
      "cell_type": "code",
      "execution_count": 9,
      "metadata": {
        "colab": {
          "base_uri": "https://localhost:8080/"
        },
        "id": "uwiOEKVxw9hC",
        "outputId": "9db840ec-c5c0-4da3-e770-3212ae4f327b"
      },
      "outputs": [
        {
          "output_type": "stream",
          "name": "stdout",
          "text": [
            "O menor elemento da lista é: 1\n",
            "O maior elemento da lista é: 10\n"
          ]
        }
      ],
      "source": [
        "def encontrar_menor(lista): #função que retorna o menor número da lista\n",
        "    menor = lista[0]\n",
        "    for elem in lista:\n",
        "        if(elem < menor):\n",
        "            menor = elem\n",
        "    return menor\n",
        "\n",
        "def encontrar_maior(lista): #função que retorna o maior número da lista\n",
        "    maior = lista[0]\n",
        "    for elem in lista:\n",
        "        if(elem > maior):\n",
        "            maior = elem\n",
        "    return maior\n",
        "\n",
        "lista_teste = [2,10,3,1,4,5]\n",
        "menor = encontrar_menor(lista_teste)\n",
        "print(f'O menor elemento da lista é: {menor}')\n",
        "maior = encontrar_maior(lista_teste)\n",
        "print(f'O maior elemento da lista é: {maior}')"
      ]
    }
  ]
}