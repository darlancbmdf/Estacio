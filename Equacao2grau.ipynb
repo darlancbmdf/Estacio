{
  "nbformat": 4,
  "nbformat_minor": 0,
  "metadata": {
    "colab": {
      "provenance": [],
      "authorship_tag": "ABX9TyM1hLcMrmwH4zfv0DwpeZT7",
      "include_colab_link": true
    },
    "kernelspec": {
      "name": "python3",
      "display_name": "Python 3"
    },
    "language_info": {
      "name": "python"
    }
  },
  "cells": [
    {
      "cell_type": "markdown",
      "metadata": {
        "id": "view-in-github",
        "colab_type": "text"
      },
      "source": [
        "<a href=\"https://colab.research.google.com/github/darlancbmdf/Estacio/blob/main/Equacao2grau.ipynb\" target=\"_parent\"><img src=\"https://colab.research.google.com/assets/colab-badge.svg\" alt=\"Open In Colab\"/></a>"
      ]
    },
    {
      "cell_type": "code",
      "execution_count": 3,
      "metadata": {
        "colab": {
          "base_uri": "https://localhost:8080/"
        },
        "id": "CMZzZpvEWCFN",
        "outputId": "7d502000-64d2-4a75-df1f-7569ae591f44"
      },
      "outputs": [
        {
          "output_type": "stream",
          "name": "stdout",
          "text": [
            "Digite o valor do coeficiente: 1\n",
            "Digite o valor do coeficiente: 5\n",
            "Digite o valor do coeficiente: 6\n",
            "a equação possui as raízes: -3.0, -2.0\n"
          ]
        }
      ],
      "source": [
        "def entrada_dados():\n",
        "    coeficiente = quantidade = eval(input('Digite o valor do coeficiente: '))\n",
        "    return coeficiente\n",
        "\n",
        "def calc_delta(a,b,c):\n",
        "    delta=b*b-4*a*c\n",
        "    return delta\n",
        "\n",
        "import numpy as np\n",
        "def calcular_raizes(a, b, c, delta):\n",
        "    if(delta < 0):\n",
        "        resultado='a equação não possui raízes nos numeros reais'\n",
        "    elif(delta==0):\n",
        "        x=-b/(2*a)\n",
        "        resultado=f'a equação possui apenas a raiz: {x}'\n",
        "    else:\n",
        "        x1=(-b-np.sqrt(delta))/(2*a)\n",
        "        x2=(-b+np.sqrt(delta))/(2*a)\n",
        "        resultado=f'a equação possui as raízes: {x1}, {x2}'\n",
        "    return resultado\n",
        "\n",
        "#f(x)=ax^2+bx+c\n",
        "a=entrada_dados()\n",
        "b=entrada_dados()\n",
        "c=entrada_dados()\n",
        "\n",
        "delta=calc_delta(a,b,c)\n",
        "\n",
        "resultado=calcular_raizes(a,b,c,delta)\n",
        "print(resultado)"
      ]
    }
  ]
}