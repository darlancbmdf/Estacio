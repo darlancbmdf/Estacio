{
  "nbformat": 4,
  "nbformat_minor": 0,
  "metadata": {
    "colab": {
      "provenance": [],
      "authorship_tag": "ABX9TyODwJJCRsTIvg49tATaJ18Q",
      "include_colab_link": true
    },
    "kernelspec": {
      "name": "python3",
      "display_name": "Python 3"
    },
    "language_info": {
      "name": "python"
    }
  },
  "cells": [
    {
      "cell_type": "markdown",
      "metadata": {
        "id": "view-in-github",
        "colab_type": "text"
      },
      "source": [
        "<a href=\"https://colab.research.google.com/github/darlancbmdf/Estacio/blob/main/Class.ipynb\" target=\"_parent\"><img src=\"https://colab.research.google.com/assets/colab-badge.svg\" alt=\"Open In Colab\"/></a>"
      ]
    },
    {
      "cell_type": "code",
      "execution_count": 3,
      "metadata": {
        "colab": {
          "base_uri": "https://localhost:8080/"
        },
        "id": "YywodtGoM51g",
        "outputId": "8008ddc7-96aa-40ea-eec1-875d8f36c8ac"
      },
      "outputs": [
        {
          "output_type": "stream",
          "name": "stdout",
          "text": [
            "Nome: Maria, Endereço: Rua das Acácias\n",
            "Nome: João, Endereço: Rua 25 de março\n"
          ]
        }
      ],
      "source": [
        "class Pessoa:\n",
        "    def __init__(self, nome, ender):\n",
        "        self.set_nome(nome)\n",
        "        self.set_ender(ender)\n",
        "\n",
        "    def set_nome(self, nome):\n",
        "        self.nome=nome\n",
        "    \n",
        "    def set_ender(self, ender):\n",
        "        self.ender=ender\n",
        "    \n",
        "    def get_nome(self):\n",
        "        return self.nome\n",
        "    \n",
        "    def get_ender(self):\n",
        "        return self.ender\n",
        "\n",
        "    #criação de objetos\n",
        "    pessoa1 = Pessoa(\"Maria\",\"Rua das Acácias\")\n",
        "    pessoa2 = Pessoa(\"João\",\"Rua 25 de março\")\n",
        "\n",
        "    print(f'Nome: {pessoa1.get_nome()}, Endereço: {pessoa1.get_ender()}')\n",
        "    print(f'Nome: {pessoa2.get_nome()}, Endereço: {pessoa2.get_ender()}')"
      ]
    }
  ]
}