{
  "nbformat": 4,
  "nbformat_minor": 0,
  "metadata": {
    "colab": {
      "provenance": [],
      "authorship_tag": "ABX9TyMS27Gj8kG0Fkq5fPUHOmWL"
    },
    "kernelspec": {
      "name": "python3",
      "display_name": "Python 3"
    },
    "language_info": {
      "name": "python"
    }
  },
  "cells": [
    {
      "cell_type": "code",
      "execution_count": null,
      "metadata": {
        "colab": {
          "base_uri": "https://localhost:8080/"
        },
        "id": "jOG1zBxn3JSU",
        "outputId": "0901d40f-d74d-4d83-d8fd-82be1e98a8e8"
      },
      "outputs": [
        {
          "output_type": "stream",
          "name": "stdout",
          "text": [
            "A soma dos numeros pares da lista é: 30\n"
          ]
        }
      ],
      "source": [
        "def ehPar(n):\n",
        "    r = (n%2==0)\n",
        "    return r\n",
        "\n",
        "def somar_pares(lista):\n",
        "    soma = 0\n",
        "    for num in lista:\n",
        "        if(ehPar(num)): #referencia a função ehPar()\n",
        "            soma += num\n",
        "    return soma\n",
        "\n",
        "lista = [1, 2, 3, 4, 5, 6, 7, 8, 9, 10] #o resultado deve ser 30\n",
        "soma_pares = somar_pares(lista)\n",
        "print(f'A soma dos numeros pares da lista é: {soma_pares}')"
      ]
    }
  ]
}