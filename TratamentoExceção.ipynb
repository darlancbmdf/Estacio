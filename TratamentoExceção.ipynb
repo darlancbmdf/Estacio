{
  "nbformat": 4,
  "nbformat_minor": 0,
  "metadata": {
    "colab": {
      "provenance": [],
      "authorship_tag": "ABX9TyMdIjR8/GIvdngVl2XCkcp1",
      "include_colab_link": true
    },
    "kernelspec": {
      "name": "python3",
      "display_name": "Python 3"
    },
    "language_info": {
      "name": "python"
    }
  },
  "cells": [
    {
      "cell_type": "markdown",
      "metadata": {
        "id": "view-in-github",
        "colab_type": "text"
      },
      "source": [
        "<a href=\"https://colab.research.google.com/github/darlancbmdf/Estacio/blob/main/TratamentoExce%C3%A7%C3%A3o.ipynb\" target=\"_parent\"><img src=\"https://colab.research.google.com/assets/colab-badge.svg\" alt=\"Open In Colab\"/></a>"
      ]
    },
    {
      "cell_type": "code",
      "execution_count": 7,
      "metadata": {
        "colab": {
          "base_uri": "https://localhost:8080/"
        },
        "id": "pn1gfH-JasUw",
        "outputId": "e76cb13f-177f-4111-c85b-eb984f0ab689"
      },
      "outputs": [
        {
          "output_type": "stream",
          "name": "stdout",
          "text": [
            "digite um número: 3\n",
            "digite um número: y\n",
            "Entre com um número válido\n",
            "digite um número: 0\n",
            "Divisão por zero\n"
          ]
        }
      ],
      "source": [
        "def dividir(x,y):\n",
        "    try:\n",
        "        resultado = x/y\n",
        "        print('A resposta é : ', resultado)\n",
        "    except ZeroDivisionError:\n",
        "        print('Divisão por zero')\n",
        " \n",
        "while True:\n",
        "    try:\n",
        "        x = float(input('digite um número: '))\n",
        "        break\n",
        "    except ValueError:\n",
        "        print('Entre com um número válido')\n",
        "\n",
        "while True:\n",
        "    try:\n",
        "        y = float(input('digite um número: '))\n",
        "        break\n",
        "    except ValueError:\n",
        "        print('Entre com um número válido')\n",
        "\n",
        "dividir(x,y)"
      ]
    }
  ]
}