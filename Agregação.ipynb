{
  "nbformat": 4,
  "nbformat_minor": 0,
  "metadata": {
    "colab": {
      "provenance": [],
      "authorship_tag": "ABX9TyPxQ0/O8t5r9oTw0fiNPw7q",
      "include_colab_link": true
    },
    "kernelspec": {
      "name": "python3",
      "display_name": "Python 3"
    },
    "language_info": {
      "name": "python"
    }
  },
  "cells": [
    {
      "cell_type": "markdown",
      "metadata": {
        "id": "view-in-github",
        "colab_type": "text"
      },
      "source": [
        "<a href=\"https://colab.research.google.com/github/darlancbmdf/Estacio/blob/main/Agrega%C3%A7%C3%A3o.ipynb\" target=\"_parent\"><img src=\"https://colab.research.google.com/assets/colab-badge.svg\" alt=\"Open In Colab\"/></a>"
      ]
    },
    {
      "cell_type": "code",
      "execution_count": 1,
      "metadata": {
        "colab": {
          "base_uri": "https://localhost:8080/"
        },
        "id": "MmH5Dn2-cyma",
        "outputId": "a6239210-8c16-4d35-ca7b-4892fb9221ac"
      },
      "outputs": [
        {
          "output_type": "stream",
          "name": "stdout",
          "text": [
            "120700\n"
          ]
        }
      ],
      "source": [
        "#Classe Salário\n",
        "class Salario:\n",
        "    def __init__(self, base, bonus):\n",
        "        self.base = base\n",
        "        self.bonus = bonus\n",
        "\n",
        "    def salario_anual(self):\n",
        "        return (self.base*12)+self.bonus\n",
        "\n",
        "#Classe Empregado\n",
        "class Empregado:\n",
        "    def __init__(self, nome, idade, salario):\n",
        "        self.nome = nome\n",
        "        self.idade = idade\n",
        "        self.salario_agregado = salario #Agregação\n",
        "    def salario_total(self):\n",
        "        return self.salario_agregado.salario_anual()\n",
        "\n",
        "salario = Salario(10000, 700)\n",
        "emp = Empregado('Musashi', 46, salario)\n",
        "print(emp.salario_total())"
      ]
    }
  ]
}